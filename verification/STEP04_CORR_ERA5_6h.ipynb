{
 "cells": [
  {
   "cell_type": "markdown",
   "id": "ac814c7e-dee1-4b45-9239-8d9cd98b9ada",
   "metadata": {},
   "source": [
    "# Spatial correlation analysis - ERA5\n",
    "\n",
    "* This notebook shows how spatial correlation was computed for upper air variables in ERA5.\n",
    "\n",
    "* The notebook runs with `verif_config_6h.yml` in the same folder."
   ]
  },
  {
   "cell_type": "code",
   "execution_count": 1,
   "id": "8deb4be5-9191-4fb6-afb1-9b6c2351f719",
   "metadata": {},
   "outputs": [],
   "source": [
    "import os\n",
    "import sys\n",
    "import yaml\n",
    "from glob import glob\n",
    "from datetime import datetime, timedelta\n",
    "\n",
    "import numpy as np\n",
    "import xarray as xr\n",
    "from scipy.stats import pearsonr\n",
    "from itertools import combinations\n",
    "\n",
    "sys.path.insert(0, os.path.realpath('../libs/'))\n",
    "import verif_utils as vu"
   ]
  },
  {
   "cell_type": "markdown",
   "id": "22cbb5ca-f1f0-406d-a41b-063cef0a77f5",
   "metadata": {},
   "source": [
    "### Load config"
   ]
  },
  {
   "cell_type": "code",
   "execution_count": 3,
   "id": "04614252-cb60-44ef-afa4-3732f1a34dae",
   "metadata": {},
   "outputs": [],
   "source": [
    "config_name = os.path.realpath('verif_config_6h.yml')\n",
    "\n",
    "with open(config_name, 'r') as stream:\n",
    "    conf = yaml.safe_load(stream)"
   ]
  },
  {
   "cell_type": "code",
   "execution_count": 4,
   "id": "78708828-93ce-4ac9-80dd-5f9b40cd80a4",
   "metadata": {},
   "outputs": [],
   "source": [
    "verif_ind_start = 0; verif_ind_end = 4*(365+366+365)\n",
    "\n",
    "path_verif = conf['ERA5_ours']['save_loc_verif']+'spatial_corr_{:04d}_{:04d}_ERA5.nc'.format(\n",
    "    verif_ind_start, verif_ind_end)"
   ]
  },
  {
   "cell_type": "markdown",
   "id": "adac47f2-5091-444d-b78d-f03d7a919edd",
   "metadata": {},
   "source": [
    "### Spatial correlation compute"
   ]
  },
  {
   "cell_type": "code",
   "execution_count": 5,
   "id": "5d9d3246-64ea-497c-aeb2-9702b62fe591",
   "metadata": {},
   "outputs": [],
   "source": [
    "# ---------------------------------------------------------------------------------------- #\n",
    "# ERA5 verif target\n",
    "filename_ERA5 = sorted(glob(conf['ERA5_ours']['save_loc']))\n",
    "\n",
    "# pick years\n",
    "year_range = conf['ERA5_ours']['year_range']\n",
    "years_pick = np.arange(year_range[0], year_range[1]+1, 1).astype(str)\n",
    "filename_ERA5 = [fn for fn in filename_ERA5 if any(year in fn for year in years_pick)]\n",
    "\n",
    "# merge yearly ERA5 as one\n",
    "ds_ERA5 = [vu.get_forward_data(fn) for fn in filename_ERA5]\n",
    "ds_ERA5_merge = xr.concat(ds_ERA5, dim='time')\n",
    "    \n",
    "# select variables\n",
    "variables_levels = {'V': None, 'U': None, 'T': None, 'Q': None}\n",
    "ds_ERA5_merge = vu.ds_subset_everything(ds_ERA5_merge, variables_levels)\n",
    "\n",
    "# get level information\n",
    "levels = ds_ERA5_merge['level'].values\n",
    "\n",
    "# ---------------------------------------------------------------------------------------- #\n",
    "# allocate spatial corrlation on every 6 hour\n",
    "corr_ds_list = []\n",
    "\n",
    "# variables (time, level, latitude, longtude) to compute corr\n",
    "var_4D = list(variables_levels.keys())\n",
    "\n",
    "# loop over 6 hourly indices\n",
    "for i_time in range(verif_ind_start, verif_ind_end):\n",
    "    \n",
    "    ds_target = ds_ERA5_merge.isel(time=i_time).load()\n",
    "    \n",
    "    # create a list of var with level info\n",
    "    var_info = [(f\"{varname}_{level_num}\", varname, level_num) for varname in var_4D for level_num in levels]\n",
    "    \n",
    "    # get var names to label output xarray\n",
    "    varname_full = [var[0] for var in var_info]\n",
    "    N_vars = len(varname_full)\n",
    "    \n",
    "    # allocate xr.DataArray for corr output\n",
    "    corr_array = xr.DataArray(\n",
    "        np.full((N_vars, N_vars), np.nan),\n",
    "        coords={'var1': varname_full, 'var2': varname_full},\n",
    "        dims=['var1', 'var2']\n",
    "    )\n",
    "\n",
    "    # loop over variable pairs, compute corr\n",
    "    for (var1_info, var2_info) in combinations(var_info, 2):\n",
    "        \n",
    "        # var1\n",
    "        varname1, var1, lev1 = var1_info\n",
    "        data_target1 = ds_target[var1].sel(level=lev1)\n",
    "\n",
    "        # var2\n",
    "        varname2, var2, lev2 = var2_info\n",
    "        data_target2 = ds_target[var2].sel(level=lev2)\n",
    "        \n",
    "        # convert to numpy and ravel\n",
    "        data_target1 = data_target1.values.ravel()\n",
    "        data_target2 = data_target2.values.ravel()\n",
    "\n",
    "        # corr\n",
    "        corr, _ = pearsonr(data_target1, data_target2)\n",
    "        \n",
    "        # assign corr coef to corr_array\n",
    "        corr_array.loc[dict(var1=varname1, var2=varname2)] = corr\n",
    "        corr_array.loc[dict(var1=varname2, var2=varname1)] = corr\n",
    "\n",
    "    # set diagonal elements to 1\n",
    "    for varname in varname_full:\n",
    "        corr_array.loc[dict(var1=varname, var2=varname)] = 1.0\n",
    "\n",
    "    # convert xr.DataArray to xr.Dataset\n",
    "    corr_ds = xr.Dataset({'correlation': corr_array})\n",
    "\n",
    "    # Append the dataset to the list\n",
    "    corr_ds_list.append(corr_ds)\n",
    "\n",
    "# concat all 6 hourly result\n",
    "corr_ds_combined = xr.concat(corr_ds_list, dim='day')\n",
    "#corr_ds_combined.to_netcdf(path_verif)"
   ]
  },
  {
   "cell_type": "markdown",
   "id": "3f8d4b5e-2a1e-4ce3-8cb5-51508623b4ba",
   "metadata": {},
   "source": [
    "### Plot"
   ]
  },
  {
   "cell_type": "code",
   "execution_count": 7,
   "id": "68593e38-77e3-44b5-afbb-55b327948fc1",
   "metadata": {},
   "outputs": [],
   "source": [
    "# plot\n",
    "import matplotlib.pyplot as plt\n",
    "%matplotlib inline"
   ]
  },
  {
   "cell_type": "code",
   "execution_count": 8,
   "id": "40a6c7fc-915e-477e-b84c-27d4eef19ae8",
   "metadata": {},
   "outputs": [],
   "source": [
    "data_plot = np.array(corr_ds_combined['correlation'])[1, ...]"
   ]
  },
  {
   "cell_type": "code",
   "execution_count": 9,
   "id": "fc39a7b7-fb63-48b9-836b-189b64fb1e12",
   "metadata": {},
   "outputs": [
    {
     "data": {
      "text/plain": [
       "<matplotlib.colorbar.Colorbar at 0x15442527bfd0>"
      ]
     },
     "execution_count": 9,
     "metadata": {},
     "output_type": "execute_result"
    },
    {
     "data": {
      "image/png": "[encoded data removed]",
      "text/plain": [
       "<Figure size 640x480 with 2 Axes>"
      ]
     },
     "metadata": {},
     "output_type": "display_data"
    }
   ],
   "source": [
    "plt.pcolormesh(data_plot[5:, 5:], vmin=-1, vmax=1, cmap=plt.cm.RdBu_r)\n",
    "plt.colorbar()  # Optional: Adds a colorbar"
   ]
  },
  {
   "cell_type": "code",
   "execution_count": null,
   "id": "1833de36-aa0d-4ead-bace-263cb32b03aa",
   "metadata": {},
   "outputs": [],
   "source": []
  }
 ],
 "metadata": {
  "kernelspec": {
   "display_name": "Python 3 (ipykernel)",
   "language": "python",
   "name": "python3"
  },
  "language_info": {
   "codemirror_mode": {
    "name": "ipython",
    "version": 3
   },
   "file_extension": ".py",
   "mimetype": "text/x-python",
   "name": "python",
   "nbconvert_exporter": "python",
   "pygments_lexer": "ipython3",
   "version": "3.11.9"
  }
 },
 "nbformat": 4,
 "nbformat_minor": 5
}
