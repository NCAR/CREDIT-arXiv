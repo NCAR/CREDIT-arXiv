{
 "cells": [
  {
   "cell_type": "markdown",
   "id": "d56e0d15-21d8-49c0-aed0-0e36b5fefe52",
   "metadata": {},
   "source": [
    "# Combining verification results\n",
    "\n",
    "* This notebook combines verification results on individual initializaitons for visualization.\n",
    "* The notebook runs with `verif_config_6h.yml` in the same folder."
   ]
  },
  {
   "cell_type": "code",
   "execution_count": 1,
   "id": "92825f32-f2f0-4518-91cf-4b45873b57a8",
   "metadata": {},
   "outputs": [],
   "source": [
    "import os\n",
    "import sys\n",
    "import yaml\n",
    "import argparse\n",
    "from glob import glob\n",
    "from datetime import datetime, timedelta\n",
    "\n",
    "import numpy as np\n",
    "import xarray as xr\n",
    "\n",
    "sys.path.insert(0, os.path.realpath('../libs/'))\n",
    "import verif_utils as vu\n",
    "import score_utils as su"
   ]
  },
  {
   "cell_type": "markdown",
   "id": "5e3ac320-1214-4ace-b23f-302bea6ffb02",
   "metadata": {},
   "source": [
    "### Load config"
   ]
  },
  {
   "cell_type": "code",
   "execution_count": 2,
   "id": "6104c698-762d-48b2-a92c-c8ed62865fd4",
   "metadata": {},
   "outputs": [],
   "source": [
    "config_name = os.path.realpath('verif_config_6h.yml')\n",
    "\n",
    "with open(config_name, 'r') as stream:\n",
    "    conf = conf = yaml.safe_load(stream)"
   ]
  },
  {
   "cell_type": "markdown",
   "id": "a65fcce8-c40d-4c0b-9aa7-4c6a8c52815c",
   "metadata": {},
   "source": [
    "### RMSE and ACC"
   ]
  },
  {
   "cell_type": "code",
   "execution_count": 3,
   "id": "edd00cdb-df70-48cc-8f8d-658942674d04",
   "metadata": {},
   "outputs": [],
   "source": [
    "model_names = ['wxformer', 'fuxi', 'IFS']\n",
    "IND_max = 2*(365+366+365)\n",
    "INDs = np.arange(0, IND_max+100, 100)\n",
    "INDs[-1] = IND_max"
   ]
  },
  {
   "cell_type": "markdown",
   "id": "0a080c72-5841-487b-845d-9e7455a4a5cb",
   "metadata": {},
   "source": [
    "**Check NaNs**"
   ]
  },
  {
   "cell_type": "code",
   "execution_count": 6,
   "id": "0a471d67-20d4-4cc6-99b2-5af59dc9d809",
   "metadata": {},
   "outputs": [
    {
     "name": "stdout",
     "output_type": "stream",
     "text": [
      "Checking completed\n"
     ]
    }
   ],
   "source": [
    "VERIF = {}\n",
    "\n",
    "for model_name in ['wxformer', 'fuxi', 'IFS']:\n",
    "    # file names to load\n",
    "    verif_lead_range = conf[model_name]['verif_lead_range']\n",
    "    path_RMSE_verif = conf[model_name]['save_loc_verif']+'combined_rmse_{:04d}_{:04d}_{:03d}h_{:03d}h_{}.nc'\n",
    "\n",
    "    # file names to save\n",
    "    path_RMSE_save = conf[model_name]['save_loc_verif']+'RMSE_{:03d}h_{:03d}h_{}.nc'\n",
    "    \n",
    "    # load xarray.Dataset and merge all verified days\n",
    "    RMSE_verif = []\n",
    "\n",
    "    for i, ind_start in enumerate(INDs[:-1]):\n",
    "        ind_end = INDs[i+1]\n",
    "    \n",
    "        filename = path_RMSE_verif.format(ind_start, ind_end, verif_lead_range[0], verif_lead_range[-1], model_name)\n",
    "        ds_verf_temp = xr.open_dataset(filename)\n",
    "        RMSE_verif.append(ds_verf_temp)\n",
    "    \n",
    "    # merge by concat\n",
    "    ds_RMSE_verif = xr.concat(RMSE_verif, dim='days')\n",
    "\n",
    "    # save to one dictionary for some checking\n",
    "    VERIF['{}_RMSE'.format(model_name)] = ds_RMSE_verif\n",
    "\n",
    "# # if see NaN, find its indices\n",
    "for model_name in ['wxformer', 'fuxi', 'IFS']:\n",
    "    for var_name in ['U500', 'V500', 'T500', 'Q500', 'Z500', 't2m', 'SP']:\n",
    "        test = np.mean(np.array(VERIF[f'{model_name}_RMSE'][var_name]), axis=1)\n",
    "        ind_found = np.argwhere(np.isnan(test))\n",
    "    \n",
    "        if len(ind_found) > 0:\n",
    "\n",
    "            filename_OURS = sorted(glob(conf[model_name]['save_loc_gather']+'*.nc'))\n",
    "        \n",
    "            year_range = conf[model_name]['year_range']\n",
    "            years_pick = np.arange(year_range[0], year_range[1]+1, 1).astype(str)\n",
    "            filename_OURS = [fn for fn in filename_OURS if any(year in fn for year in years_pick)]\n",
    "    \n",
    "            for i in range(len(ind_found)):\n",
    "                ind_check = ind_found[i][0]\n",
    "                print('bad file: {}'.format(filename_OURS[ind_check]))\n",
    "\n",
    "print('Checking completed')"
   ]
  },
  {
   "cell_type": "markdown",
   "id": "640174f5-28ad-41c5-b971-463aac3241f8",
   "metadata": {},
   "source": [
    "**Save RMSE as netCDF**"
   ]
  },
  {
   "cell_type": "code",
   "execution_count": 7,
   "id": "89ae4c61-c666-465c-9cd7-82ee263b52b0",
   "metadata": {},
   "outputs": [
    {
     "name": "stdout",
     "output_type": "stream",
     "text": [
      "Save to /glade/campaign/cisl/aiml/ksha/CREDIT_arXiv/VERIF/verif_6h/wxformer_6h/RMSE_006h_240h_wxformer.nc\n",
      "Save to /glade/campaign/cisl/aiml/ksha/CREDIT_arXiv/VERIF/verif_6h/fuxi_6h/RMSE_006h_240h_fuxi.nc\n",
      "Save to /glade/campaign/cisl/aiml/ksha/CREDIT_arXiv/VERIF/verif_6h/IFS/RMSE_006h_240h_IFS.nc\n"
     ]
    }
   ],
   "source": [
    "VERIF = {}\n",
    "\n",
    "for model_name in model_names:\n",
    "    # file names to load\n",
    "    verif_lead_range = conf[model_name]['verif_lead_range']\n",
    "    path_RMSE_verif = conf[model_name]['save_loc_verif']+'combined_rmse_{:04d}_{:04d}_{:03d}h_{:03d}h_{}.nc'\n",
    "\n",
    "    # file names to save\n",
    "    path_RMSE_save = conf[model_name]['save_loc_verif']+'RMSE_{:03d}h_{:03d}h_{}.nc'\n",
    "    \n",
    "    # load xarray.Dataset and merge all verified days\n",
    "    RMSE_verif = []\n",
    "\n",
    "    for i, ind_start in enumerate(INDs[:-1]):\n",
    "        ind_end = INDs[i+1]\n",
    "        filename = path_RMSE_verif.format(ind_start, ind_end, verif_lead_range[0], verif_lead_range[-1], model_name)\n",
    "        ds_verf_temp = xr.open_dataset(filename)\n",
    "        RMSE_verif.append(ds_verf_temp)\n",
    "    \n",
    "    # merge by concat\n",
    "    ds_RMSE_verif = xr.concat(RMSE_verif, dim='days')\n",
    "\n",
    "    # save to one dictionary for some checking\n",
    "    VERIF['{}_RMSE'.format(model_name)] = ds_RMSE_verif\n",
    "\n",
    "    # save to nc\n",
    "    save_name_RMSE = path_RMSE_save.format(verif_lead_range[0], verif_lead_range[-1], model_name)\n",
    "    ds_RMSE_verif.to_netcdf(save_name_RMSE)\n",
    "    print('Save to {}'.format(save_name_RMSE))"
   ]
  },
  {
   "cell_type": "markdown",
   "id": "1514a057-5aa4-48e7-b6b4-c51f205cc765",
   "metadata": {},
   "source": [
    "**Save RMSE as netCDF**"
   ]
  },
  {
   "cell_type": "code",
   "execution_count": 8,
   "id": "22203066-eb43-4bc0-9082-218b802807ed",
   "metadata": {},
   "outputs": [
    {
     "name": "stdout",
     "output_type": "stream",
     "text": [
      "Save to /glade/campaign/cisl/aiml/ksha/CREDIT_arXiv/VERIF/verif_6h/wxformer_6h/ACC_006h_240h_wxformer.nc\n",
      "Save to /glade/campaign/cisl/aiml/ksha/CREDIT_arXiv/VERIF/verif_6h/fuxi_6h/ACC_006h_240h_fuxi.nc\n",
      "Save to /glade/campaign/cisl/aiml/ksha/CREDIT_arXiv/VERIF/verif_6h/IFS/ACC_006h_240h_IFS.nc\n"
     ]
    }
   ],
   "source": [
    "for model_name in model_names:\n",
    "    # file names to load\n",
    "    verif_lead_range = conf[model_name]['verif_lead_range']\n",
    "    path_ACC_verif = conf[model_name]['save_loc_verif']+'combined_acc_{:04d}_{:04d}_{:03d}h_{:03d}h_{}.nc'\n",
    "\n",
    "    # file names to save\n",
    "    path_ACC_save = conf[model_name]['save_loc_verif']+'ACC_{:03d}h_{:03d}h_{}.nc'\n",
    "    \n",
    "    # load xarray.Dataset and merge all verified days\n",
    "    ACC_verif = []\n",
    "\n",
    "    for i, ind_start in enumerate(INDs[:-1]):\n",
    "        ind_end = INDs[i+1]\n",
    "        filename = path_ACC_verif.format(ind_start, ind_end, verif_lead_range[0], verif_lead_range[-1], model_name)\n",
    "        ds_verf_temp = xr.open_dataset(filename)\n",
    "        ACC_verif.append(ds_verf_temp)\n",
    "    \n",
    "    # merge by concat\n",
    "    ds_ACC_verif = xr.concat(ACC_verif, dim='days')\n",
    "\n",
    "    # save to one dictionary for some checking\n",
    "    VERIF['{}_ACC'.format(model_name)] = ds_ACC_verif\n",
    "    \n",
    "    # save to nc\n",
    "    save_name_ACC = path_ACC_save.format(verif_lead_range[0], verif_lead_range[-1], model_name)\n",
    "    ds_ACC_verif.to_netcdf(save_name_ACC)\n",
    "    print('Save to {}'.format(save_name_ACC))"
   ]
  },
  {
   "cell_type": "markdown",
   "id": "21eb4172-48d7-4c37-bae1-3affbe72398a",
   "metadata": {},
   "source": [
    "**Prepare data for visualizaiton**"
   ]
  },
  {
   "cell_type": "code",
   "execution_count": 9,
   "id": "11dd32a2-cc27-491e-9a2c-dc400676c9f1",
   "metadata": {},
   "outputs": [
    {
     "name": "stdout",
     "output_type": "stream",
     "text": [
      "Save to /glade/campaign/cisl/aiml/ksha/CREDIT_arXiv/PLOT_data/scores_CREDIT_arXiv_2024_fuxi_wxformer.npy\n"
     ]
    }
   ],
   "source": [
    "path_clim = conf['ERA5_weatherbench']['save_loc_clim']+'combined_rmse_clim_2020_2022.nc'\n",
    "clim_scores = xr.open_dataset(path_clim)\n",
    "\n",
    "model_names = ['wxformer', 'fuxi', 'IFS']\n",
    "varnames_plot = ['U500', 'V500', 'T500', 'Q500', 'Z500', 't2m', 'SP']\n",
    "N_boost = 2\n",
    "\n",
    "PLOT_data = {}\n",
    "\n",
    "for var in varnames_plot:\n",
    "    for model_name in model_names:\n",
    "        # =============================================================================================== #\n",
    "        # RMSE\n",
    "        np_RMSE = np.array(VERIF['{}_RMSE'.format(model_name)][var])\n",
    "        N_samples = int(N_boost*len(np_RMSE))\n",
    "\n",
    "        mean_score, ci_lower, ci_upper = su.bootstrap_confidence_intervals(np_RMSE, \n",
    "                                                                           num_bootstrap_samples=N_samples, \n",
    "                                                                           lower_quantile=0.05, \n",
    "                                                                           upper_quantile=0.95)\n",
    "        \n",
    "        PLOT_data['RMSE_{}_{}_mean'.format(model_name, var)] = mean_score\n",
    "        PLOT_data['RMSE_{}_{}_95p'.format(model_name, var)] = ci_upper\n",
    "        PLOT_data['RMSE_{}_{}_05p'.format(model_name, var)] = ci_lower\n",
    "\n",
    "        # =============================================================================================== #\n",
    "        # ACC\n",
    "        np_ACC = np.array(VERIF['{}_ACC'.format(model_name)][var])\n",
    "        N_samples = int(N_boost*len(np_ACC))\n",
    "        \n",
    "        mean_score, ci_lower, ci_upper = su.bootstrap_confidence_intervals(np_ACC, \n",
    "                                                                           num_bootstrap_samples=N_samples, \n",
    "                                                                           lower_quantile=0.05, \n",
    "                                                                           upper_quantile=0.95)\n",
    "        \n",
    "        PLOT_data['ACC_{}_{}_mean'.format(model_name, var)] = mean_score\n",
    "        PLOT_data['ACC_{}_{}_95p'.format(model_name, var)] = ci_upper\n",
    "        PLOT_data['ACC_{}_{}_05p'.format(model_name, var)] = ci_lower\n",
    "\n",
    "    # save RMSE clim\n",
    "    rmse_clim = np.array(clim_scores[var]).mean()\n",
    "    PLOT_data['RMSE_clim_{}_mean'.format(var)] = rmse_clim\n",
    "\n",
    "# Save\n",
    "save_name = conf['qsub']['plot_data_loc'] + 'scores_CREDIT_arXiv_2024_fuxi_wxformer.npy'\n",
    "np.save(save_name, PLOT_data)\n",
    "print(f'Save to {save_name}')"
   ]
  },
  {
   "cell_type": "markdown",
   "id": "3a64e207-c439-4cc4-a6c0-610b87e9c8a0",
   "metadata": {},
   "source": [
    "### Zonal energy spectrum"
   ]
  },
  {
   "cell_type": "markdown",
   "id": "713772c1-ebac-42e1-812f-b5c17d65cbfc",
   "metadata": {},
   "source": [
    "**Save ZES as netCDF**"
   ]
  },
  {
   "cell_type": "code",
   "execution_count": 12,
   "id": "c7a567f4-c252-4798-832a-4638111ba998",
   "metadata": {},
   "outputs": [
    {
     "name": "stdout",
     "output_type": "stream",
     "text": [
      "Save to /glade/campaign/cisl/aiml/ksha/CREDIT_arXiv/VERIF/verif_6h/wxformer_6h/ZES_024h_wxformer.nc\n",
      "Save to /glade/campaign/cisl/aiml/ksha/CREDIT_arXiv/VERIF/verif_6h/wxformer_6h/ZES_120h_wxformer.nc\n",
      "Save to /glade/campaign/cisl/aiml/ksha/CREDIT_arXiv/VERIF/verif_6h/wxformer_6h/ZES_240h_wxformer.nc\n",
      "Save to /glade/campaign/cisl/aiml/ksha/CREDIT_arXiv/VERIF/verif_6h/fuxi_6h/ZES_024h_fuxi.nc\n",
      "Save to /glade/campaign/cisl/aiml/ksha/CREDIT_arXiv/VERIF/verif_6h/fuxi_6h/ZES_120h_fuxi.nc\n",
      "Save to /glade/campaign/cisl/aiml/ksha/CREDIT_arXiv/VERIF/verif_6h/fuxi_6h/ZES_240h_fuxi.nc\n",
      "Save to /glade/campaign/cisl/aiml/ksha/CREDIT_arXiv/VERIF/verif_6h/IFS/ZES_024h_IFS.nc\n",
      "Save to /glade/campaign/cisl/aiml/ksha/CREDIT_arXiv/VERIF/verif_6h/IFS/ZES_120h_IFS.nc\n",
      "Save to /glade/campaign/cisl/aiml/ksha/CREDIT_arXiv/VERIF/verif_6h/IFS/ZES_240h_IFS.nc\n"
     ]
    }
   ],
   "source": [
    "VERIF = {}\n",
    "lead_names =[24, 120, 240]\n",
    "\n",
    "for model_name in model_names:\n",
    "\n",
    "    # file name to open\n",
    "    path_ZES_verif = conf[model_name]['save_loc_verif']+'combined_zes_{:04d}_{:04d}_{}_lead{}.nc'\n",
    "    # file names to save\n",
    "    path_ZES_save = conf[model_name]['save_loc_verif']+'ZES_{:03d}h_{}.nc'\n",
    "    # verified lead times\n",
    "    for lead_name in lead_names:\n",
    "        ZES_verif = []\n",
    "        # load xarray.Dataset and merge all verified days\n",
    "        for i, ind_start in enumerate(INDs[:-1]):\n",
    "            ind_end = INDs[i+1]\n",
    "            filename = path_ZES_verif.format(ind_start, ind_end, model_name, lead_name)\n",
    "            ds_verf_temp = xr.open_dataset(filename)\n",
    "            ZES_verif.append(ds_verf_temp)\n",
    "    \n",
    "        # merge by concat\n",
    "        ds_ZES_verif = xr.concat(ZES_verif, dim='time')\n",
    "\n",
    "        # save to one dictionary for some checking\n",
    "        VERIF['{}_ZES_{}'.format(model_name, lead_name)] = ds_ZES_verif\n",
    "\n",
    "        # save to nc\n",
    "        save_name_ZES = path_ZES_save.format(lead_name, model_name)\n",
    "        ds_ZES_verif.to_netcdf(save_name_ZES)\n",
    "        print('Save to {}'.format(save_name_ZES))"
   ]
  },
  {
   "cell_type": "markdown",
   "id": "2f3d0900-ea22-47c2-832e-cd5fa6376e3d",
   "metadata": {},
   "source": [
    "**Pack ERA5 ZES & prepare data for visualizaiton**"
   ]
  },
  {
   "cell_type": "code",
   "execution_count": 13,
   "id": "0e2258be-6041-4f22-a220-ca57e4d826e3",
   "metadata": {},
   "outputs": [
    {
     "name": "stdout",
     "output_type": "stream",
     "text": [
      "Save to /glade/campaign/cisl/aiml/ksha/CREDIT_arXiv/PLOT_data/ZES_CREDIT_arXiv_2024_fuxi_wxformer.npy\n"
     ]
    }
   ],
   "source": [
    "path_clim = conf['ERA5_weatherbench']['save_loc_clim']+'combined_zes_clim.nc'\n",
    "clim_scores = xr.open_dataset(path_clim)\n",
    "\n",
    "model_names = ['wxformer', 'fuxi', 'IFS']\n",
    "#varnames_plot = ['U500', 'V500', 'T500', 'Q500', 'Z500', 't2m', 'SP']\n",
    "#N_boost = 2\n",
    "\n",
    "PLOT_data = {}\n",
    "\n",
    "for model_name in model_names:\n",
    "    for lead_name in lead_names:\n",
    "        # =============================================================================================== #\n",
    "        # RMSE\n",
    "        np_theta = np.array(VERIF['{}_ZES_{}'.format(model_name, lead_name)]['theta'])\n",
    "        np_u = np.array(VERIF['{}_ZES_{}'.format(model_name, lead_name)]['U500'])\n",
    "        np_v = np.array(VERIF['{}_ZES_{}'.format(model_name, lead_name)]['V500'])\n",
    "        KE = 0.5*(np_u + np_v)\n",
    "\n",
    "        PLOT_data['ZES_{}_{}_theta'.format(model_name, lead_name)] = np.mean(np_theta, axis=0)\n",
    "        PLOT_data['ZES_{}_{}_KE'.format(model_name, lead_name)] = np.mean(KE, axis=0)\n",
    "\n",
    "# save RMSE clim\n",
    "\n",
    "np_theta = np.array(clim_scores['theta'])\n",
    "np_u = np.array(clim_scores['U500'])\n",
    "np_v = np.array(clim_scores['V500'])\n",
    "KE = 0.5*(np_u + np_v)\n",
    "\n",
    "PLOT_data['ZES_ERA5_theta'] = np.mean(np_theta, axis=0)\n",
    "PLOT_data['ZES_ERA5_KE'] = np.mean(KE, axis=0)\n",
    "\n",
    "# Save\n",
    "save_name = conf['qsub']['plot_data_loc'] + 'ZES_CREDIT_arXiv_2024_fuxi_wxformer.npy'\n",
    "np.save(save_name, PLOT_data)\n",
    "print(f'Save to {save_name}')"
   ]
  },
  {
   "cell_type": "markdown",
   "id": "8919c679-aecd-4e4a-b6ae-75a6a0567477",
   "metadata": {},
   "source": [
    "### Spatial correlation"
   ]
  },
  {
   "cell_type": "markdown",
   "id": "d2e44f04-7e79-46f5-a175-3c2aafb3b9e9",
   "metadata": {},
   "source": [
    "**6 hourly ERA5 coorelation**"
   ]
  },
  {
   "cell_type": "code",
   "execution_count": 14,
   "id": "a6fe8680-b1a8-4915-b231-a8a6168d9734",
   "metadata": {},
   "outputs": [],
   "source": [
    "IND_max_6h = 4*(365+366+365)\n",
    "INDs_6h = np.arange(0, IND_max_6h+50, 50)\n",
    "INDs_6h[-1] = IND_max_6h"
   ]
  },
  {
   "cell_type": "code",
   "execution_count": 15,
   "id": "83559a7d-2949-4267-8087-71d07ea0c200",
   "metadata": {},
   "outputs": [],
   "source": [
    "VERIF = {}\n",
    "\n",
    "# =========================================================== #\n",
    "# 6 hourly ERA5\n",
    "ERA5_corr = []\n",
    "for i, ind_start in enumerate(INDs_6h[:-1]):\n",
    "    verif_ind_start = ind_start\n",
    "    verif_ind_end = INDs_6h[i+1]\n",
    "    filename = conf['ERA5_ours']['save_loc_verif']+'spatial_corr_{:04d}_{:04d}_6h_ERA5.nc'.format(\n",
    "        verif_ind_start, verif_ind_end)\n",
    "    ERA5_corr.append(xr.open_dataset(filename))\n",
    "    \n",
    "ERA5_corr_verif = xr.concat(ERA5_corr, dim='day')\n",
    "ERA5_corr_mean = np.mean(ERA5_corr_verif['correlation'].values, axis=0)\n",
    "VERIF['ERA5_6h'] = ERA5_corr_mean\n",
    "\n",
    "np.save(conf['qsub']['plot_data_loc'] + 'CORR_CREDIT_arXiv_2024_ERA5.npy', VERIF)"
   ]
  },
  {
   "cell_type": "markdown",
   "id": "9a94587e-055e-4b9c-ae4a-d2602a2f22c2",
   "metadata": {},
   "source": [
    "**6 hourly FuXi and wxformer correlation**"
   ]
  },
  {
   "cell_type": "code",
   "execution_count": 10,
   "id": "aba7e8bb-2fbb-4956-987e-edea7d007e67",
   "metadata": {},
   "outputs": [],
   "source": [
    "model_names = ['fuxi', 'wxformer']"
   ]
  },
  {
   "cell_type": "code",
   "execution_count": 13,
   "id": "b7d06cf3-8af7-4401-a4c6-7d3fae390a2b",
   "metadata": {},
   "outputs": [],
   "source": [
    "IND_max_6h = 2*(365+366+365)\n",
    "INDs_6h = np.arange(0, IND_max_6h+50, 50)\n",
    "INDs_6h[-1] = IND_max_6h"
   ]
  },
  {
   "cell_type": "code",
   "execution_count": 14,
   "id": "5ecb061e-e111-4bfa-86d8-ad4a88e4dde3",
   "metadata": {},
   "outputs": [],
   "source": [
    "VERIF = {}\n",
    "for model_name in model_names:\n",
    "    model_corr = []\n",
    "    for i, ind_start in enumerate(INDs_6h[:-1]):\n",
    "        # ========================== #\n",
    "        verif_ind_start = ind_start\n",
    "        verif_ind_end = INDs_6h[i+1]\n",
    "        filename = conf[model_name]['save_loc_verif']+'spatial_corr_{:04d}_{:04d}_240h_{}.nc'.format(\n",
    "            verif_ind_start, verif_ind_end, model_name)\n",
    "        model_corr.append(xr.open_dataset(filename))\n",
    "        \n",
    "    model_corr_verif = xr.concat(model_corr, dim='day')\n",
    "    model_corr_mean = np.mean(model_corr_verif['correlation'].values, axis=0)\n",
    "    VERIF[model_name] = model_corr_mean\n",
    "    np.save(conf['qsub']['plot_data_loc'] + 'CORR_CREDIT_arXiv_2024_models.npy', VERIF)"
   ]
  },
  {
   "cell_type": "code",
   "execution_count": null,
   "id": "dbc4e5f9-f88c-45eb-8d0b-9dae3d2a1c6b",
   "metadata": {},
   "outputs": [],
   "source": []
  }
 ],
 "metadata": {
  "kernelspec": {
   "display_name": "Python 3 (ipykernel)",
   "language": "python",
   "name": "python3"
  },
  "language_info": {
   "codemirror_mode": {
    "name": "ipython",
    "version": 3
   },
   "file_extension": ".py",
   "mimetype": "text/x-python",
   "name": "python",
   "nbconvert_exporter": "python",
   "pygments_lexer": "ipython3",
   "version": "3.11.9"
  }
 },
 "nbformat": 4,
 "nbformat_minor": 5
}
