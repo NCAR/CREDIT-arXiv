{
 "cells": [
  {
   "cell_type": "markdown",
   "id": "c299464f-36e8-4536-aa51-b421eb7b5fe5",
   "metadata": {},
   "source": [
    "# Combining forecast files - 6 hourly Wxformer\n",
    "\n",
    "* This notebook illustrates how individual forecast files were combined based on their initialization time (e.g., 40 files were combined per initialization for 6-240 hours of forecasts)\n",
    "\n",
    "* The notebook runs with `verif_config_6h.yml` in the same folder."
   ]
  },
  {
   "cell_type": "code",
   "execution_count": 1,
   "id": "399abbd9-da47-4728-82a4-2c52c89273f4",
   "metadata": {},
   "outputs": [],
   "source": [
    "import os\n",
    "import sys\n",
    "import yaml\n",
    "from glob import glob\n",
    "from datetime import datetime\n",
    "\n",
    "import numpy as np\n",
    "import xarray as xr\n",
    "\n",
    "import warnings\n",
    "warnings.filterwarnings('ignore')\n",
    "\n",
    "sys.path.insert(0, os.path.realpath('../libs/'))\n",
    "import verif_utils as vu"
   ]
  },
  {
   "cell_type": "markdown",
   "id": "11c805c3-9536-46cf-99bf-f6c007954109",
   "metadata": {},
   "source": [
    "### Load config"
   ]
  },
  {
   "cell_type": "code",
   "execution_count": 2,
   "id": "43fbba18-3576-4618-bd22-2528364427f9",
   "metadata": {},
   "outputs": [],
   "source": [
    "config_name = os.path.realpath('verif_config_6h.yml')\n",
    "\n",
    "with open(config_name, 'r') as stream:\n",
    "    conf = yaml.safe_load(stream)"
   ]
  },
  {
   "cell_type": "markdown",
   "id": "a79d458e-9fd4-4322-8546-f9cee87addd1",
   "metadata": {},
   "source": [
    "### Model name"
   ]
  },
  {
   "cell_type": "code",
   "execution_count": 3,
   "id": "b0307a7a-15eb-49e7-9962-d347fef0a3fd",
   "metadata": {},
   "outputs": [],
   "source": [
    "model_name = 'wxformer'"
   ]
  },
  {
   "cell_type": "markdown",
   "id": "97b17bd9-79b4-4112-b97d-1d545825ab05",
   "metadata": {},
   "source": [
    "### Glob file locations"
   ]
  },
  {
   "cell_type": "code",
   "execution_count": 4,
   "id": "f2948dec-6ecc-4d78-944f-5ce87adf334d",
   "metadata": {},
   "outputs": [],
   "source": [
    "variables_levels = None"
   ]
  },
  {
   "cell_type": "code",
   "execution_count": 5,
   "id": "bcfd137f-b0a1-4043-945e-b91602b1fb9c",
   "metadata": {},
   "outputs": [],
   "source": [
    "base_dir = conf[model_name]['save_loc_rollout']\n",
    "output_dir = conf[model_name]['save_loc_gather']\n",
    "time_intervals = None\n",
    "all_files_list = vu.get_nc_files(base_dir)"
   ]
  },
  {
   "cell_type": "markdown",
   "id": "b8e2f18e-73fd-4ace-82f4-a9bb063d808b",
   "metadata": {},
   "source": [
    "### Combine forecast based on initializations"
   ]
  },
  {
   "cell_type": "code",
   "execution_count": 6,
   "id": "bba1ffd4-af0e-4c42-b200-d301f283f8ce",
   "metadata": {},
   "outputs": [],
   "source": [
    "# ind_start = 0\n",
    "# ind_end = 2*(365+366+365)\n",
    "\n",
    "# flag_overall = False\n",
    "\n",
    "# while flag_overall is False:\n",
    "    \n",
    "#     flag_overall = True\n",
    "#     for i in range(ind_start, ind_end):\n",
    "#         flag = vu.process_file_group(all_files_list[i], output_dir, variables_levels, size_thres=9306171909)\n",
    "\n",
    "#     flag_overall = flag_overall and flag"
   ]
  },
  {
   "cell_type": "code",
   "execution_count": null,
   "id": "3a482e12-bbe0-4f13-aaad-cdda71d690cf",
   "metadata": {},
   "outputs": [],
   "source": []
  }
 ],
 "metadata": {
  "kernelspec": {
   "display_name": "Python 3 (ipykernel)",
   "language": "python",
   "name": "python3"
  },
  "language_info": {
   "codemirror_mode": {
    "name": "ipython",
    "version": 3
   },
   "file_extension": ".py",
   "mimetype": "text/x-python",
   "name": "python",
   "nbconvert_exporter": "python",
   "pygments_lexer": "ipython3",
   "version": "3.11.9"
  }
 },
 "nbformat": 4,
 "nbformat_minor": 5
}
