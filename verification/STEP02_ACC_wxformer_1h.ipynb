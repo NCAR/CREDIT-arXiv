{
 "cells": [
  {
   "cell_type": "markdown",
   "id": "4a7a1317-2641-4bac-838c-a6b6083dea60",
   "metadata": {},
   "source": [
    "# ACC calculation - 6 hourly Wxformer\n",
    "\n",
    "* This notebook shows how ACCs were computed for 6 hourly Wxformer outputs.\n",
    "\n",
    "* The notebook runs with `verif_config_6h.yml` in the same folder."
   ]
  },
  {
   "cell_type": "code",
   "execution_count": 1,
   "id": "853ef392-9e1d-469e-8e66-e0c5cfafeb6e",
   "metadata": {},
   "outputs": [],
   "source": [
    "import os\n",
    "import sys\n",
    "import yaml\n",
    "import argparse\n",
    "from glob import glob\n",
    "from datetime import datetime, timedelta\n",
    "\n",
    "import numpy as np\n",
    "import xarray as xr\n",
    "\n",
    "sys.path.insert(0, os.path.realpath('../libs/'))\n",
    "import verif_utils as vu"
   ]
  },
  {
   "cell_type": "markdown",
   "id": "e6ee7015-db2a-4550-95c9-3c527713e402",
   "metadata": {},
   "source": [
    "### Load config"
   ]
  },
  {
   "cell_type": "code",
   "execution_count": 6,
   "id": "e25cdb21-6411-4997-8030-41d256bcca11",
   "metadata": {},
   "outputs": [],
   "source": [
    "config_name = os.path.realpath('verif_config_1h.yml')\n",
    "\n",
    "with open(config_name, 'r') as stream:\n",
    "    conf = yaml.safe_load(stream)"
   ]
  },
  {
   "cell_type": "markdown",
   "id": "00a3ed56-ad93-405a-8205-38dbcc1e6e84",
   "metadata": {},
   "source": [
    "### Model and lead time to verify"
   ]
  },
  {
   "cell_type": "code",
   "execution_count": 7,
   "id": "38229a5f-9533-4df5-b299-dc7441464502",
   "metadata": {},
   "outputs": [
    {
     "name": "stdout",
     "output_type": "stream",
     "text": [
      "Verifying lead times: [6, 12, 18, 24, 30, 36, 42, 48, 54, 60, 66, 72, 78, 84, 90, 96, 102, 108, 114, 120]\n",
      "Verifying lead indices: [5, 11, 17, 23, 29, 35, 41, 47, 53, 59, 65, 71, 77, 83, 89, 95, 101, 107, 113, 119]\n"
     ]
    }
   ],
   "source": [
    "model_name = 'wxformer'\n",
    "lead_range = conf[model_name]['lead_range']\n",
    "verif_lead_range = conf[model_name]['verif_lead_range']\n",
    "\n",
    "leads_exist = list(np.arange(lead_range[0], lead_range[-1]+lead_range[0], lead_range[0]))\n",
    "leads_verif = list(np.arange(verif_lead_range[0], verif_lead_range[-1]+verif_lead_range[0], verif_lead_range[0]))\n",
    "ind_lead = vu.lead_to_index(leads_exist, leads_verif)\n",
    "\n",
    "print('Verifying lead times: {}'.format(leads_verif))\n",
    "print('Verifying lead indices: {}'.format(ind_lead))"
   ]
  },
  {
   "cell_type": "code",
   "execution_count": 8,
   "id": "2a6a0ec5-cb49-4119-be06-d47652b98934",
   "metadata": {},
   "outputs": [],
   "source": [
    "verif_ind_start = 0; verif_ind_end = 2*(365+366+365)\n",
    "\n",
    "path_verif = conf[model_name]['save_loc_verif']+'combined_acc_{}_{}_{}h_{}h_{}.nc'.format(\n",
    "    verif_ind_start, verif_ind_end, verif_lead_range[0], verif_lead_range[-1], model_name)"
   ]
  },
  {
   "cell_type": "markdown",
   "id": "3558b6a3-270c-4ba0-bd1f-70453a7a3c6c",
   "metadata": {},
   "source": [
    "### ACC compute"
   ]
  },
  {
   "cell_type": "code",
   "execution_count": 9,
   "id": "5d9d3246-64ea-497c-aeb2-9702b62fe591",
   "metadata": {},
   "outputs": [
    {
     "name": "stdout",
     "output_type": "stream",
     "text": [
      "Total number of initialization times: 2192\n"
     ]
    }
   ],
   "source": [
    "# ---------------------------------------------------------------------------------------- #\n",
    "# temp function for lat / lon average\n",
    "def sp_avg(DS, wlat):\n",
    "    return DS.weighted(wlat).mean(['latitude', 'longitude'], skipna=False)\n",
    "\n",
    "# ---------------------------------------------------------------------------------------- #\n",
    "# ERA5 climatology info\n",
    "ERA5_path_string = conf['ERA5_weatherbench']['save_loc_clim'] + 'ERA5_clim_1990_2019_6h_interp.nc'\n",
    "ds_ERA5_clim = xr.open_dataset(ERA5_path_string)\n",
    "# rename coordinate name to latitude, longitude\n",
    "if 'lat' in ds_ERA5_clim.coords:\n",
    "    ds_ERA5_clim = ds_ERA5_clim.rename({'lat': 'latitude'})\n",
    "if 'lon' in ds_ERA5_clim.coords:\n",
    "    ds_ERA5_clim = ds_ERA5_clim.rename({'lon': 'longitude'})\n",
    "\n",
    "# ---------------------------------------------------------------------------------------- #\n",
    "# ERA5 verif target\n",
    "filename_ERA5 = sorted(glob(conf['ERA5_ours']['save_loc']))\n",
    "\n",
    "# pick years\n",
    "year_range = conf['ERA5_ours']['year_range']\n",
    "years_pick = np.arange(year_range[0], year_range[1]+1, 1).astype(str)\n",
    "filename_ERA5 = [fn for fn in filename_ERA5 if any(year in fn for year in years_pick)]\n",
    "\n",
    "# merge yearly ERA5 as one\n",
    "ds_ERA5 = [vu.get_forward_data(fn) for fn in filename_ERA5]\n",
    "ds_ERA5_merge = xr.concat(ds_ERA5, dim='time')\n",
    "    \n",
    "# Select the specified variables and their levels\n",
    "variables_levels = conf['ERA5_ours']['verif_variables']\n",
    "\n",
    "# subset merged ERA5\n",
    "ds_ERA5_merge = vu.ds_subset_everything(ds_ERA5_merge, variables_levels)\n",
    "\n",
    "# ---------------------------------------------------------------------------------------- #\n",
    "# forecast\n",
    "filename_OURS = sorted(glob(conf[model_name]['save_loc_gather']+'*.nc'))\n",
    "\n",
    "# pick years\n",
    "year_range = conf[model_name]['year_range']\n",
    "years_pick = np.arange(year_range[0], year_range[1]+1, 1).astype(str)\n",
    "filename_OURS = [fn for fn in filename_OURS if any(year in fn for year in years_pick)]\n",
    "\n",
    "L_max = len(filename_OURS)\n",
    "print('Total number of initialization times: {}'.format(L_max))\n",
    "assert verif_ind_end <= L_max, 'verified indices (days) exceeds the max index available'\n",
    "\n",
    "filename_OURS = filename_OURS[verif_ind_start:verif_ind_end]\n",
    "\n",
    "# ---------------------------------------------------------------------------------------- #\n",
    "# latitude weighting\n",
    "lat = xr.open_dataset(filename_OURS[0])[\"latitude\"]\n",
    "w_lat = np.cos(np.deg2rad(lat))\n",
    "w_lat = w_lat / w_lat.mean()\n",
    "\n",
    "# ---------------------------------------------------------------------------------------- #\n",
    "# ACC compute\n",
    "\n",
    "acc_results = []\n",
    "\n",
    "for fn_ours in filename_OURS:\n",
    "    \n",
    "    # --------------------------------------------------------------- #\n",
    "    # import and subset forecast\n",
    "    ds_ours = xr.open_dataset(fn_ours)\n",
    "    ds_ours = vu.ds_subset_everything(ds_ours, variables_levels)\n",
    "    ds_ours = ds_ours.isel(time=ind_lead)\n",
    "    dayofyear = ds_ours['time.dayofyear']\n",
    "    hourofday = ds_ours['time'].dt.hour\n",
    "    ds_ours = ds_ours.load()\n",
    "    \n",
    "    # --------------------------------------------------------------- #\n",
    "    # get ERA5 verification target\n",
    "    ds_target = ds_ERA5_merge.sel(time=ds_ours['time']).load()\n",
    "    \n",
    "    # --------------------------------------------------------------- #\n",
    "    # get ERA5 climatology\n",
    "    ds_clim_target = ds_ERA5_clim.sel(dayofyear=dayofyear, hour=hourofday).load()\n",
    "    \n",
    "    # ========================================== #\n",
    "    # ERA5 anomaly\n",
    "    ds_anomaly_ERA5 = ds_target - ds_clim_target\n",
    "\n",
    "    # fcst anomaly\n",
    "    ds_anomaly_OURS = ds_ours - ds_clim_target\n",
    "    \n",
    "    # ========================================== #\n",
    "    # anmalies --> ACC with latitude-based cosine weights (check sp_avg and w_lat)\n",
    "    top = sp_avg(ds_anomaly_OURS*ds_anomaly_ERA5, w_lat)\n",
    "    \n",
    "    bottom = np.sqrt(\n",
    "        sp_avg(ds_anomaly_OURS**2, w_lat) * sp_avg(ds_anomaly_ERA5**2, w_lat))\n",
    "                \n",
    "    acc_results.append((top/bottom).drop_vars('time'))\n",
    "    \n",
    "# Combine ACC results\n",
    "ds_acc = xr.concat(acc_results, dim='days')\n",
    "\n",
    "# Save\n",
    "# print('Save to {}'.format(path_verif))\n",
    "# # ds_acc.to_netcdf(path_verif)"
   ]
  },
  {
   "cell_type": "code",
   "execution_count": null,
   "id": "cc658e93-1138-477f-95f6-2e8da4577bf3",
   "metadata": {},
   "outputs": [],
   "source": []
  }
 ],
 "metadata": {
  "kernelspec": {
   "display_name": "Python 3 (ipykernel)",
   "language": "python",
   "name": "python3"
  },
  "language_info": {
   "codemirror_mode": {
    "name": "ipython",
    "version": 3
   },
   "file_extension": ".py",
   "mimetype": "text/x-python",
   "name": "python",
   "nbconvert_exporter": "python",
   "pygments_lexer": "ipython3",
   "version": "3.11.9"
  }
 },
 "nbformat": 4,
 "nbformat_minor": 5
}
